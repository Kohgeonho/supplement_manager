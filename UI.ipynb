{
 "cells": [
  {
   "cell_type": "code",
   "execution_count": 1,
   "source": [
    "import openpyxl\r\n",
    "import pandas as pd\r\n",
    "from openpyxl import load_workbook"
   ],
   "outputs": [],
   "metadata": {}
  },
  {
   "cell_type": "code",
   "execution_count": 2,
   "source": [
    "df = pd.DataFrame([[1, 2],[2, 3]])"
   ],
   "outputs": [],
   "metadata": {}
  },
  {
   "cell_type": "code",
   "execution_count": 4,
   "source": [
    "writer = pd.ExcelWriter('member_info.xlsx', mode='a')\r\n",
    "df.to_excel(writer, sheet_name='sheet3', index=False)\r\n",
    "writer.save()"
   ],
   "outputs": [],
   "metadata": {}
  },
  {
   "cell_type": "code",
   "execution_count": 5,
   "source": [
    "with pd.ExcelWriter('member_info.xlsx', mode='a') as writer:\r\n",
    "    df.to_excel(writer,\r\n",
    "                sheet_name = '2021년 1월',\r\n",
    "                index=False)\r\n",
    "    writer.save()"
   ],
   "outputs": [],
   "metadata": {}
  }
 ],
 "metadata": {
  "orig_nbformat": 4,
  "language_info": {
   "name": "python"
  }
 },
 "nbformat": 4,
 "nbformat_minor": 2
}