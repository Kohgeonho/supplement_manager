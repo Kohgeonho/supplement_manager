{
 "cells": [
  {
   "cell_type": "code",
   "execution_count": null,
   "source": [
    "import openpyxl\r\n",
    "import pandas as pd\r\n",
    "from openpyxl import load_workbook"
   ],
   "outputs": [],
   "metadata": {}
  },
  {
   "cell_type": "code",
   "execution_count": null,
   "source": [
    "import pandas as pd\r\n",
    "import tkinter.ttk as ttk\r\n",
    "import tkinter\r\n",
    "import tkinter.messagebox\r\n",
    "from tkinter import *\r\n",
    "from tkinter import filedialog\r\n",
    "from openpyxl import load_workbook"
   ],
   "outputs": [],
   "metadata": {}
  },
  {
   "cell_type": "code",
   "execution_count": null,
   "source": [
    "df = pd.DataFrame([[1, 2],[2, 3]])"
   ],
   "outputs": [],
   "metadata": {}
  },
  {
   "cell_type": "code",
   "execution_count": null,
   "source": [
    "writer = pd.ExcelWriter('member_info.xlsx', mode='a')\r\n",
    "df.to_excel(writer, sheet_name='sheet3', index=False)\r\n",
    "writer.save()"
   ],
   "outputs": [],
   "metadata": {}
  },
  {
   "cell_type": "code",
   "execution_count": null,
   "source": [
    "with pd.ExcelWriter('member_info.xlsx', mode='a') as writer:\r\n",
    "    df.to_excel(writer,\r\n",
    "                sheet_name = '2021년 1월',\r\n",
    "                index=False)\r\n",
    "    writer.save()"
   ],
   "outputs": [],
   "metadata": {}
  },
  {
   "cell_type": "code",
   "execution_count": null,
   "source": [
    "files = filedialog.askopenfilename(title=\"파일을 선택하세요\", \\\r\n",
    "                                           filetypes=((\"Excel 파일\", \"*.xlsx\"), \\\r\n",
    "                                                      (\"모든 파일\", \"*.*\")), \\\r\n",
    "                                           initialdir=\"./\")    # 현재 경로를 보여줌\r\n",
    "df = pd.read_excel(files)\r\n",
    "unit_nums = [re.compile('^(.*) 부 \\(이상(.*)명\\)$') \\\r\n",
    "               .findall(string.strip())\r\n",
    "             for string in df['Unnamed: 6'].dropna(how='any')]\r\n",
    "\r\n",
    "units = []\r\n",
    "for unit_num in unit_nums:\r\n",
    "  unit, num = unit_num[0]\r\n",
    "  units += [unit] * int(num)\r\n",
    "units\r\n",
    "#[string for string in df['Unnamed: 6'].dropna(how='any')]\r\n"
   ],
   "outputs": [],
   "metadata": {}
  },
  {
   "cell_type": "code",
   "execution_count": null,
   "source": [
    "import re\r\n",
    "\r\n",
    "string = \"0사단 01보병여단 부 (이상7명)\"\r\n",
    "\r\n",
    "m = re.compile('^(.*) 부 \\(이상(.*)명\\) $').findall(string)\r\n",
    "m"
   ],
   "outputs": [],
   "metadata": {}
  },
  {
   "cell_type": "code",
   "execution_count": 23,
   "source": [
    "class MyTable(Table):\r\n",
    "    \"\"\"Custom table class inherits from Table. You can then override required methods\"\"\"\r\n",
    "    def __init__(self, parent=None, **kwargs):\r\n",
    "        Table.__init__(self, parent, **kwargs)\r\n",
    "        return\r\n",
    "\r\n",
    "    def show_specific(self, col, value):\r\n",
    "        w = Toplevel(self.parentframe)\r\n",
    "        w.title(\"New Window\")\r\n",
    "        w.geometry(\"600x400+200+100\")\r\n",
    "        \r\n",
    "        f = Frame(w)\r\n",
    "        f.pack(fill=BOTH,expand=1)\r\n",
    "\r\n",
    "        xl = pd.ExcelFile('member_info.xlsx')\r\n",
    "        sheet = xl.sheet_names[col-1]\r\n",
    "        df = pd.read_excel('member_info.xlsx', sheet_name=sheet)\r\n",
    "        df = df[df['부대'] == value]\r\n",
    "\r\n",
    "        pt = MyTable(f, dataframe=df,\r\n",
    "                     showtoolbar=True, showstatusbar=True)\r\n",
    "        pt.show()\r\n",
    "        return\r\n",
    "\r\n",
    "    def popupMenu(self, event, rows=None, cols=None, outside=None):\r\n",
    "    \r\n",
    "        def add_commands(fieldtype):\r\n",
    "            \"\"\"Add commands to popup menu for column type and specific cell\"\"\"\r\n",
    "            functions = self.columnactions[fieldtype]\r\n",
    "            for f in list(functions.keys()):\r\n",
    "                func = getattr(self, functions[f])\r\n",
    "                popupmenu.add_command(label=f, command= lambda : func(row,col))\r\n",
    "            return\r\n",
    "\r\n",
    "        popupmenu = Menu(self, tearoff = 0)\r\n",
    "        def popupFocusOut(event):\r\n",
    "            popupmenu.unpost()\r\n",
    "\r\n",
    "        row = self.get_row_clicked(event)\r\n",
    "        col = self.get_col_clicked(event)\r\n",
    "        value = self.model.getValueAt(row, 0)\r\n",
    "\r\n",
    "        popupmenu.add_command(label=\"자세히\", command= lambda: self.show_specific(col, value))\r\n",
    "\r\n",
    "        popupmenu.bind(\"<FocusOut>\", popupFocusOut)\r\n",
    "        popupmenu.focus_set()\r\n",
    "        popupmenu.post(event.x_root, event.y_root)\r\n",
    "        return popupmenu"
   ],
   "outputs": [],
   "metadata": {}
  },
  {
   "cell_type": "code",
   "execution_count": 24,
   "source": [
    "from tkinter import *\r\n",
    "from pandastable import Table, TableModel\r\n",
    "import pandas as pd\r\n",
    "\r\n",
    "class TestApp(Frame):\r\n",
    "        \"\"\"Basic test frame for the table\"\"\"\r\n",
    "        def __init__(self, parent=None):\r\n",
    "            self.parent = parent\r\n",
    "            Frame.__init__(self)\r\n",
    "            self.main = self.master\r\n",
    "            self.main.geometry('600x400+200+100')\r\n",
    "            self.main.title('Table app')\r\n",
    "            f = Frame(self.main)\r\n",
    "            f.pack(fill=BOTH,expand=1)\r\n",
    "\r\n",
    "            df = pd.read_excel('member_info.xlsx', sheet_name=None)\r\n",
    "            unit_total = pd.DataFrame(columns=['부대'])\r\n",
    "            for k in df.keys():\r\n",
    "                unit_df = df[k]['부대'].value_counts(sort=False).convert_dtypes().rename_axis('부대').reset_index(name=k)\r\n",
    "                unit_total = pd.merge(unit_total,unit_df, how='outer', on='부대')\r\n",
    "            self.table = pt = MyTable(f, dataframe=unit_total)\r\n",
    "\r\n",
    "            pt.show()\r\n",
    "            return"
   ],
   "outputs": [],
   "metadata": {}
  },
  {
   "cell_type": "code",
   "execution_count": 26,
   "source": [
    "app = TestApp()\r\n",
    "#launch the app\r\n",
    "app.mainloop()"
   ],
   "outputs": [],
   "metadata": {}
  },
  {
   "cell_type": "code",
   "execution_count": 19,
   "source": [
    "xl = pd.ExcelFile('member_info.xlsx')\r\n",
    "sheet = xl.sheet_names[5-1]\r\n",
    "\r\n",
    "df = pd.read_excel('member_info.xlsx', sheet_name=sheet)\r\n",
    "df[df['부대'] == '0사단 정보통신대대']\r\n"
   ],
   "outputs": [
    {
     "output_type": "execute_result",
     "data": {
      "text/plain": [
       "            부대           군번   이름\n",
       "17  0사단 정보통신대대  21-00000000  홍길동\n",
       "18  0사단 정보통신대대  21-00000000  홍길동"
      ],
      "text/html": [
       "<div>\n",
       "<style scoped>\n",
       "    .dataframe tbody tr th:only-of-type {\n",
       "        vertical-align: middle;\n",
       "    }\n",
       "\n",
       "    .dataframe tbody tr th {\n",
       "        vertical-align: top;\n",
       "    }\n",
       "\n",
       "    .dataframe thead th {\n",
       "        text-align: right;\n",
       "    }\n",
       "</style>\n",
       "<table border=\"1\" class=\"dataframe\">\n",
       "  <thead>\n",
       "    <tr style=\"text-align: right;\">\n",
       "      <th></th>\n",
       "      <th>부대</th>\n",
       "      <th>군번</th>\n",
       "      <th>이름</th>\n",
       "    </tr>\n",
       "  </thead>\n",
       "  <tbody>\n",
       "    <tr>\n",
       "      <th>17</th>\n",
       "      <td>0사단 정보통신대대</td>\n",
       "      <td>21-00000000</td>\n",
       "      <td>홍길동</td>\n",
       "    </tr>\n",
       "    <tr>\n",
       "      <th>18</th>\n",
       "      <td>0사단 정보통신대대</td>\n",
       "      <td>21-00000000</td>\n",
       "      <td>홍길동</td>\n",
       "    </tr>\n",
       "  </tbody>\n",
       "</table>\n",
       "</div>"
      ]
     },
     "metadata": {},
     "execution_count": 19
    }
   ],
   "metadata": {}
  },
  {
   "cell_type": "code",
   "execution_count": null,
   "source": [],
   "outputs": [],
   "metadata": {}
  }
 ],
 "metadata": {
  "orig_nbformat": 4,
  "language_info": {
   "name": "python",
   "version": "3.8.10",
   "mimetype": "text/x-python",
   "codemirror_mode": {
    "name": "ipython",
    "version": 3
   },
   "pygments_lexer": "ipython3",
   "nbconvert_exporter": "python",
   "file_extension": ".py"
  },
  "kernelspec": {
   "name": "python3",
   "display_name": "Python 3.8.10 64-bit (windows store)"
  },
  "interpreter": {
   "hash": "38e31c96aac6b52bfd92a03a517d6944ec75782017e4445807e0cb0d41655b05"
  }
 },
 "nbformat": 4,
 "nbformat_minor": 2
}