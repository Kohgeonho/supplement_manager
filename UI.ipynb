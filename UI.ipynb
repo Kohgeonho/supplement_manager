{
 "cells": [
  {
   "cell_type": "code",
   "execution_count": 1,
   "source": [
    "import openpyxl\r\n",
    "import pandas as pd\r\n",
    "from openpyxl import load_workbook"
   ],
   "outputs": [],
   "metadata": {}
  },
  {
   "cell_type": "code",
   "execution_count": 2,
   "source": [
    "import pandas as pd\r\n",
    "import tkinter.ttk as ttk\r\n",
    "import tkinter\r\n",
    "import tkinter.messagebox\r\n",
    "from tkinter import *\r\n",
    "from tkinter import filedialog\r\n",
    "from openpyxl import load_workbook"
   ],
   "outputs": [],
   "metadata": {}
  },
  {
   "cell_type": "code",
   "execution_count": 3,
   "source": [
    "df = pd.DataFrame([[1, 2],[2, 3]])"
   ],
   "outputs": [],
   "metadata": {}
  },
  {
   "cell_type": "code",
   "execution_count": 4,
   "source": [
    "writer = pd.ExcelWriter('member_info.xlsx', mode='a')\r\n",
    "df.to_excel(writer, sheet_name='sheet3', index=False)\r\n",
    "writer.save()"
   ],
   "outputs": [],
   "metadata": {}
  },
  {
   "cell_type": "code",
   "execution_count": 5,
   "source": [
    "with pd.ExcelWriter('member_info.xlsx', mode='a') as writer:\r\n",
    "    df.to_excel(writer,\r\n",
    "                sheet_name = '2021년 1월',\r\n",
    "                index=False)\r\n",
    "    writer.save()"
   ],
   "outputs": [],
   "metadata": {}
  },
  {
   "cell_type": "code",
   "execution_count": 26,
   "source": [
    "files = filedialog.askopenfilename(title=\"파일을 선택하세요\", \\\r\n",
    "                                           filetypes=((\"Excel 파일\", \"*.xlsx\"), \\\r\n",
    "                                                      (\"모든 파일\", \"*.*\")), \\\r\n",
    "                                           initialdir=\"./\")    # 현재 경로를 보여줌\r\n",
    "df = pd.read_excel(files)\r\n",
    "unit_nums = [re.compile('^(.*) 부 \\(이상(.*)명\\)$') \\\r\n",
    "               .findall(string.strip())\r\n",
    "             for string in df['Unnamed: 6'].dropna(how='any')]\r\n",
    "\r\n",
    "units = []\r\n",
    "for unit_num in unit_nums:\r\n",
    "  unit, num = unit_num[0]\r\n",
    "  units += [unit] * int(num)\r\n",
    "units\r\n",
    "#[string for string in df['Unnamed: 6'].dropna(how='any')]\r\n"
   ],
   "outputs": [
    {
     "output_type": "execute_result",
     "data": {
      "text/plain": [
       "['0사단 본부',\n",
       " '0사단 군사경찰대대',\n",
       " '0사단 군사경찰대대',\n",
       " '0사단 군사경찰대대',\n",
       " '0사단 군사경찰대대',\n",
       " '0사단 군사경찰대대',\n",
       " '0사단 군사경찰대대',\n",
       " '0사단 화생방지원대',\n",
       " '0사단 화생방지원대',\n",
       " '0사단 전차대대',\n",
       " '0사단 전차대대',\n",
       " '0사단 전차대대',\n",
       " '0사단 전차대대',\n",
       " '0사단 전차대대',\n",
       " '0사단 전차대대',\n",
       " '0사단 전차대대',\n",
       " '0사단 전차대대',\n",
       " '0사단 정보통신대대',\n",
       " '0사단 정보통신대대',\n",
       " '0사단 수색대대',\n",
       " '0사단 수색대대',\n",
       " '0사단 수색대대',\n",
       " '0사단 수색대대',\n",
       " '0사단 보급수송대대',\n",
       " '0사단 보급수송대대',\n",
       " '0사단 공병대대',\n",
       " '0사단 공병대대',\n",
       " '0사단 공병대대',\n",
       " '0사단 공병대대',\n",
       " '0사단 공병대대',\n",
       " '0사단 공병대대',\n",
       " '0사단 공병대대',\n",
       " '0사단 공병대대',\n",
       " '0사단 공병대대',\n",
       " '0사단 공병대대',\n",
       " '0사단 공병대대',\n",
       " '0사단 00보병여단',\n",
       " '0사단 00보병여단',\n",
       " '0사단 00보병여단',\n",
       " '0사단 00보병여단',\n",
       " '0사단 00보병여단',\n",
       " '0사단 00보병여단',\n",
       " '0사단 01보병여단',\n",
       " '0사단 01보병여단',\n",
       " '0사단 01보병여단',\n",
       " '0사단 01보병여단',\n",
       " '0사단 01보병여단',\n",
       " '0사단 01보병여단',\n",
       " '0사단 01보병여단']"
      ]
     },
     "metadata": {},
     "execution_count": 26
    }
   ],
   "metadata": {}
  },
  {
   "cell_type": "code",
   "execution_count": 19,
   "source": [
    "import re\r\n",
    "\r\n",
    "string = \"0사단 01보병여단 부 (이상7명)\"\r\n",
    "\r\n",
    "m = re.compile('^(.*) 부 \\(이상(.*)명\\) $').findall(string)\r\n",
    "m"
   ],
   "outputs": [
    {
     "output_type": "execute_result",
     "data": {
      "text/plain": [
       "[('0사단 01보병여단', '7')]"
      ]
     },
     "metadata": {},
     "execution_count": 19
    }
   ],
   "metadata": {}
  },
  {
   "cell_type": "code",
   "execution_count": null,
   "source": [],
   "outputs": [],
   "metadata": {}
  }
 ],
 "metadata": {
  "orig_nbformat": 4,
  "language_info": {
   "name": "python",
   "version": "3.8.10",
   "mimetype": "text/x-python",
   "codemirror_mode": {
    "name": "ipython",
    "version": 3
   },
   "pygments_lexer": "ipython3",
   "nbconvert_exporter": "python",
   "file_extension": ".py"
  },
  "kernelspec": {
   "name": "python3",
   "display_name": "Python 3.8.10 64-bit (windows store)"
  },
  "interpreter": {
   "hash": "38e31c96aac6b52bfd92a03a517d6944ec75782017e4445807e0cb0d41655b05"
  }
 },
 "nbformat": 4,
 "nbformat_minor": 2
}